{
 "cells": [
  {
   "cell_type": "markdown",
   "metadata": {},
   "source": [
    "## Exercício 1 - Dataset Digits do sklearn\n",
    "\n",
    "Acesso: https://scikit-learn.org/stable/modules/generated/sklearn.datasets.load_digits.html#sklearn.datasets.load_digits\n",
    "\n",
    "# 1) Importar o pacote \"sklearn.datasets\" e o \"load_digits\"\n",
    "# 2) Carregar o dataset através do método: load_digits()\n",
    "# 3) Observe as keys do dataset usando o método \"keys\"\n",
    "# 4) A chave \"data\" são as features e a chave \"target\" é o y. Separe os dados em 2 variáveis diferentes\n",
    "# 5) Verificar a dimensionalidade das features através da variável shape\n",
    "# 6) Separe o conjunto de dados em treinamento e teste usando o método: \"train_test_split\"\n",
    "# 7) Treinar MLP (2 topologias diferentes)\n",
    "# 8) Treinar Árvore de Decisão (com Entropia e Gini)\n",
    "# 9) Treinar Árvore de Decisão com max_depth = 2\n",
    "# 10) Treinar KNN (com duas características diferentes)\n",
    "# 11) Mostrar a taxa de acerto de todos os modelos"
   ]
  },
  {
   "cell_type": "code",
   "execution_count": 1,
   "metadata": {},
   "outputs": [],
   "source": [
    "dataset_link = \"https://scikit-learn.org/stable/modules/generated/sklearn.datasets.load_digits.html#sklearn.datasets.load_digits\""
   ]
  },
  {
   "cell_type": "code",
   "execution_count": 4,
   "metadata": {},
   "outputs": [],
   "source": [
    "from sklearn.datasets import load_digits"
   ]
  },
  {
   "cell_type": "code",
   "execution_count": 5,
   "metadata": {},
   "outputs": [],
   "source": [
    "diabetes_dataset = load_digits()"
   ]
  },
  {
   "cell_type": "code",
   "execution_count": 6,
   "metadata": {},
   "outputs": [
    {
     "data": {
      "text/plain": [
       "dict_keys(['data', 'target', 'frame', 'feature_names', 'target_names', 'images', 'DESCR'])"
      ]
     },
     "execution_count": 6,
     "metadata": {},
     "output_type": "execute_result"
    }
   ],
   "source": [
    "diabetes_dataset.keys()"
   ]
  },
  {
   "cell_type": "code",
   "execution_count": 7,
   "metadata": {},
   "outputs": [],
   "source": [
    "X, y = diabetes_dataset.data, diabetes_dataset.target"
   ]
  },
  {
   "cell_type": "code",
   "execution_count": 8,
   "metadata": {},
   "outputs": [
    {
     "data": {
      "text/plain": [
       "((1797, 64), (1797,))"
      ]
     },
     "execution_count": 8,
     "metadata": {},
     "output_type": "execute_result"
    }
   ],
   "source": [
    "X.shape, y.shape"
   ]
  },
  {
   "cell_type": "code",
   "execution_count": 9,
   "metadata": {},
   "outputs": [],
   "source": [
    "from sklearn.model_selection import train_test_split"
   ]
  },
  {
   "cell_type": "code",
   "execution_count": 10,
   "metadata": {},
   "outputs": [],
   "source": [
    "X_train, X_test, y_train, y_test = train_test_split(X, y, test_size=0.2)"
   ]
  },
  {
   "cell_type": "code",
   "execution_count": 13,
   "metadata": {},
   "outputs": [],
   "source": [
    "# import MLPRegressor\n",
    "from sklearn.neural_network import MLPRegressor\n",
    "# import DecisionTreeRegressor\n",
    "from sklearn.tree import DecisionTreeRegressor\n",
    "# import KNeighborsRegressor\n",
    "from sklearn.neighbors import KNeighborsRegressor\n",
    "# import LinearRegression\n",
    "from sklearn.linear_model import LinearRegression"
   ]
  },
  {
   "cell_type": "code",
   "execution_count": 14,
   "metadata": {},
   "outputs": [],
   "source": [
    "# create MLPRegressor object\n",
    "mlp_relu = MLPRegressor(activation='relu', hidden_layer_sizes=(100, 100), max_iter=1000, solver='adam')\n",
    "mlp_logistic = MLPRegressor(activation='logistic', hidden_layer_sizes=(200, 200), max_iter=1500, solver='sgd')\n",
    "# create DecisionTreeRegressor object\n",
    "dt_depth_5 = DecisionTreeRegressor(max_depth=5)\n",
    "dt_depth_2 = DecisionTreeRegressor(max_depth=2)\n",
    "# create KNeighborsRegressor object\n",
    "knn = KNeighborsRegressor(n_neighbors=5)\n",
    "knn_distance_weights = KNeighborsRegressor(n_neighbors=5, weights='distance')\n",
    "# create LinearRegression object\n",
    "lr = LinearRegression()"
   ]
  },
  {
   "cell_type": "code",
   "execution_count": 15,
   "metadata": {},
   "outputs": [
    {
     "data": {
      "text/html": [
       "<style>#sk-container-id-1 {color: black;}#sk-container-id-1 pre{padding: 0;}#sk-container-id-1 div.sk-toggleable {background-color: white;}#sk-container-id-1 label.sk-toggleable__label {cursor: pointer;display: block;width: 100%;margin-bottom: 0;padding: 0.3em;box-sizing: border-box;text-align: center;}#sk-container-id-1 label.sk-toggleable__label-arrow:before {content: \"▸\";float: left;margin-right: 0.25em;color: #696969;}#sk-container-id-1 label.sk-toggleable__label-arrow:hover:before {color: black;}#sk-container-id-1 div.sk-estimator:hover label.sk-toggleable__label-arrow:before {color: black;}#sk-container-id-1 div.sk-toggleable__content {max-height: 0;max-width: 0;overflow: hidden;text-align: left;background-color: #f0f8ff;}#sk-container-id-1 div.sk-toggleable__content pre {margin: 0.2em;color: black;border-radius: 0.25em;background-color: #f0f8ff;}#sk-container-id-1 input.sk-toggleable__control:checked~div.sk-toggleable__content {max-height: 200px;max-width: 100%;overflow: auto;}#sk-container-id-1 input.sk-toggleable__control:checked~label.sk-toggleable__label-arrow:before {content: \"▾\";}#sk-container-id-1 div.sk-estimator input.sk-toggleable__control:checked~label.sk-toggleable__label {background-color: #d4ebff;}#sk-container-id-1 div.sk-label input.sk-toggleable__control:checked~label.sk-toggleable__label {background-color: #d4ebff;}#sk-container-id-1 input.sk-hidden--visually {border: 0;clip: rect(1px 1px 1px 1px);clip: rect(1px, 1px, 1px, 1px);height: 1px;margin: -1px;overflow: hidden;padding: 0;position: absolute;width: 1px;}#sk-container-id-1 div.sk-estimator {font-family: monospace;background-color: #f0f8ff;border: 1px dotted black;border-radius: 0.25em;box-sizing: border-box;margin-bottom: 0.5em;}#sk-container-id-1 div.sk-estimator:hover {background-color: #d4ebff;}#sk-container-id-1 div.sk-parallel-item::after {content: \"\";width: 100%;border-bottom: 1px solid gray;flex-grow: 1;}#sk-container-id-1 div.sk-label:hover label.sk-toggleable__label {background-color: #d4ebff;}#sk-container-id-1 div.sk-serial::before {content: \"\";position: absolute;border-left: 1px solid gray;box-sizing: border-box;top: 0;bottom: 0;left: 50%;z-index: 0;}#sk-container-id-1 div.sk-serial {display: flex;flex-direction: column;align-items: center;background-color: white;padding-right: 0.2em;padding-left: 0.2em;position: relative;}#sk-container-id-1 div.sk-item {position: relative;z-index: 1;}#sk-container-id-1 div.sk-parallel {display: flex;align-items: stretch;justify-content: center;background-color: white;position: relative;}#sk-container-id-1 div.sk-item::before, #sk-container-id-1 div.sk-parallel-item::before {content: \"\";position: absolute;border-left: 1px solid gray;box-sizing: border-box;top: 0;bottom: 0;left: 50%;z-index: -1;}#sk-container-id-1 div.sk-parallel-item {display: flex;flex-direction: column;z-index: 1;position: relative;background-color: white;}#sk-container-id-1 div.sk-parallel-item:first-child::after {align-self: flex-end;width: 50%;}#sk-container-id-1 div.sk-parallel-item:last-child::after {align-self: flex-start;width: 50%;}#sk-container-id-1 div.sk-parallel-item:only-child::after {width: 0;}#sk-container-id-1 div.sk-dashed-wrapped {border: 1px dashed gray;margin: 0 0.4em 0.5em 0.4em;box-sizing: border-box;padding-bottom: 0.4em;background-color: white;}#sk-container-id-1 div.sk-label label {font-family: monospace;font-weight: bold;display: inline-block;line-height: 1.2em;}#sk-container-id-1 div.sk-label-container {text-align: center;}#sk-container-id-1 div.sk-container {/* jupyter's `normalize.less` sets `[hidden] { display: none; }` but bootstrap.min.css set `[hidden] { display: none !important; }` so we also need the `!important` here to be able to override the default hidden behavior on the sphinx rendered scikit-learn.org. See: https://github.com/scikit-learn/scikit-learn/issues/21755 */display: inline-block !important;position: relative;}#sk-container-id-1 div.sk-text-repr-fallback {display: none;}</style><div id=\"sk-container-id-1\" class=\"sk-top-container\"><div class=\"sk-text-repr-fallback\"><pre>LinearRegression()</pre><b>In a Jupyter environment, please rerun this cell to show the HTML representation or trust the notebook. <br />On GitHub, the HTML representation is unable to render, please try loading this page with nbviewer.org.</b></div><div class=\"sk-container\" hidden><div class=\"sk-item\"><div class=\"sk-estimator sk-toggleable\"><input class=\"sk-toggleable__control sk-hidden--visually\" id=\"sk-estimator-id-1\" type=\"checkbox\" checked><label for=\"sk-estimator-id-1\" class=\"sk-toggleable__label sk-toggleable__label-arrow\">LinearRegression</label><div class=\"sk-toggleable__content\"><pre>LinearRegression()</pre></div></div></div></div></div>"
      ],
      "text/plain": [
       "LinearRegression()"
      ]
     },
     "execution_count": 15,
     "metadata": {},
     "output_type": "execute_result"
    }
   ],
   "source": [
    "# fit the model\n",
    "mlp_relu.fit(X_train, y_train)\n",
    "mlp_logistic.fit(X_train, y_train)\n",
    "dt_depth_5.fit(X_train, y_train)\n",
    "dt_depth_2.fit(X_train, y_train)\n",
    "knn.fit(X_train, y_train)\n",
    "knn_distance_weights.fit(X_train, y_train)\n",
    "lr.fit(X_train, y_train)"
   ]
  },
  {
   "cell_type": "code",
   "execution_count": 16,
   "metadata": {},
   "outputs": [],
   "source": [
    "# predict the model\n",
    "mlp_relu_pred = mlp_relu.predict(X_test)\n",
    "mlp_logistic_pred = mlp_logistic.predict(X_test)\n",
    "dt_depth_5_pred = dt_depth_5.predict(X_test)\n",
    "dt_depth_2_pred = dt_depth_2.predict(X_test)\n",
    "knn_pred = knn.predict(X_test)\n",
    "knn_distance_weights_pred = knn_distance_weights.predict(X_test)\n",
    "lr_pred = lr.predict(X_test)"
   ]
  },
  {
   "cell_type": "code",
   "execution_count": 17,
   "metadata": {},
   "outputs": [],
   "source": [
    "# import mean_squared_error\n",
    "from sklearn.metrics import mean_squared_error"
   ]
  },
  {
   "cell_type": "code",
   "execution_count": 18,
   "metadata": {},
   "outputs": [],
   "source": [
    "# calculate the mean squared error\n",
    "mlp_relu_mse = mean_squared_error(y_test, mlp_relu_pred)\n",
    "mlp_logistic_mse = mean_squared_error(y_test, mlp_logistic_pred)\n",
    "dt_depth_5_mse = mean_squared_error(y_test, dt_depth_5_pred)\n",
    "dt_depth_2_mse = mean_squared_error(y_test, dt_depth_2_pred)\n",
    "knn_mse = mean_squared_error(y_test, knn_pred)\n",
    "knn_distance_weights_mse = mean_squared_error(y_test, knn_distance_weights_pred)\n",
    "lr_mse = mean_squared_error(y_test, lr_pred)"
   ]
  },
  {
   "cell_type": "code",
   "execution_count": 19,
   "metadata": {},
   "outputs": [
    {
     "name": "stdout",
     "output_type": "stream",
     "text": [
      "MLPRegressor with relu activation function and 2 hidden layers:  1.041402049011317\n",
      "MLPRegressor with logistic activation function and 2 hidden layers:  0.5292079059360502\n",
      "DecisionTreeRegressor with max_depth=5:  4.1029786319530075\n",
      "DecisionTreeRegressor with max_depth=2:  6.440709447421173\n",
      "KNeighborsRegressor:  0.35033333333333333\n",
      "KNeighborsRegressor with distance weights:  0.3362684529035735\n",
      "LinearRegression:  3.744336842561966\n"
     ]
    }
   ],
   "source": [
    "# print the mean squared error\n",
    "print(\"MLPRegressor with relu activation function and 2 hidden layers: \", mlp_relu_mse)\n",
    "print(\"MLPRegressor with logistic activation function and 2 hidden layers: \", mlp_logistic_mse)\n",
    "print(\"DecisionTreeRegressor with max_depth=5: \", dt_depth_5_mse)\n",
    "print(\"DecisionTreeRegressor with max_depth=2: \", dt_depth_2_mse)\n",
    "print(\"KNeighborsRegressor: \", knn_mse)\n",
    "print(\"KNeighborsRegressor with distance weights: \", knn_distance_weights_mse)\n",
    "print(\"LinearRegression: \", lr_mse)"
   ]
  },
  {
   "cell_type": "code",
   "execution_count": null,
   "metadata": {},
   "outputs": [],
   "source": [
    "## Exercício 2 - Dataset Diabetes do sklearn (Base de Dados de Regressão)\n",
    "\n",
    "# Acesso: https://scikit-learn.org/stable/modules/generated/sklearn.datasets.load_diabetes.html#sklearn.datasets.load_diabetes\n",
    "\n",
    "# 1) Importar o pacote \"sklearn.datasets\" e o \"load_diabetes\"\n",
    "# 2) Carregar o dataset através do método: load_diabetes()\n",
    "# 3) Observe as keys do dataset usando o método \"keys\"\n",
    "# 4) A chave \"data\" são as features e a chave \"target\" é o y. Separe os dados em 2 variáveis diferentes\n",
    "# 5) Verificar a dimensionalidade das features através da variável shape\n",
    "# 6) Separe o conjunto de dados em treinamento e teste usando o método: \"train_test_split\"\n",
    "# 7) Treinar MLP (2 topologias diferentes) - MLPRegressor()\n",
    "# 8) Treinar Árvore de Decisão - DecisionTreeRegressor()\n",
    "# 9) Treinar Árvore de Decisão com max_depth = 2 - DecisionTreeRegressor()\n",
    "# 10) Treinar KNN (com duas características diferentes) - KNeighborsRegressor()\n",
    "# 11) Treinar o modelo de Regressão Linear - LinearRegression()\n",
    "# 12) Usar o MSE (Mean Squared Error) pra avaliar os modelos:\n",
    "# Exemplo: print(\"MSE: %.2f\" % mean_squared_error(teste_y, prediction))"
   ]
  }
 ],
 "metadata": {
  "kernelspec": {
   "display_name": "Python 3",
   "language": "python",
   "name": "python3"
  },
  "language_info": {
   "codemirror_mode": {
    "name": "ipython",
    "version": 3
   },
   "file_extension": ".py",
   "mimetype": "text/x-python",
   "name": "python",
   "nbconvert_exporter": "python",
   "pygments_lexer": "ipython3",
   "version": "3.10.12"
  },
  "orig_nbformat": 4
 },
 "nbformat": 4,
 "nbformat_minor": 2
}
